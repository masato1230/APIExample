{
  "metadata": {
    "kernelspec": {
      "language": "python",
      "display_name": "Python 3",
      "name": "python3"
    },
    "language_info": {
      "pygments_lexer": "ipython3",
      "nbconvert_exporter": "python",
      "version": "3.6.4",
      "file_extension": ".py",
      "codemirror_mode": {
        "name": "ipython",
        "version": 3
      },
      "name": "python",
      "mimetype": "text/x-python"
    },
    "colab": {
      "provenance": [],
      "include_colab_link": true
    }
  },
  "nbformat_minor": 0,
  "nbformat": 4,
  "cells": [
    {
      "cell_type": "markdown",
      "metadata": {
        "id": "view-in-github",
        "colab_type": "text"
      },
      "source": [
        "<a href=\"https://colab.research.google.com/github/masato1230/APIExample/blob/master/1_golfdb_swing_event_images_extraction.ipynb\" target=\"_parent\"><img src=\"https://colab.research.google.com/assets/colab-badge.svg\" alt=\"Open In Colab\"/></a>"
      ]
    },
    {
      "cell_type": "markdown",
      "source": [
        "### This notebook extractions the relevant frame events as images from the GolfDB video dataset. The images are then placed in their respective swing event classes (address, toe-up, mid-backswing, top, mid-downswing, impact, mid-follow-through, finish) to form a dataset in the form of a scikit learn dataset.   "
      ],
      "metadata": {
        "id": "Xjo6bb1LUXi8"
      }
    },
    {
      "cell_type": "markdown",
      "source": [
        "## Download GolfDB"
      ],
      "metadata": {
        "id": "-CT-SqiyXNas"
      }
    },
    {
      "cell_type": "code",
      "source": [
        "from google.colab import drive\n",
        "drive.mount(\"/content/drive\")\n",
        "!pip install kaggle\n",
        "!cp /content/drive/MyDrive/colab_notebooks/kaggle/kaggle.json ~/.kaggle\n",
        "!kaggle datasets download -d marcmarais/videos-160"
      ],
      "metadata": {
        "colab": {
          "base_uri": "https://localhost:8080/"
        },
        "id": "OK-dkgSiU-E3",
        "outputId": "c086c161-48d8-40f9-df8e-47bd8268c612"
      },
      "execution_count": 72,
      "outputs": [
        {
          "output_type": "stream",
          "name": "stdout",
          "text": [
            "Drive already mounted at /content/drive; to attempt to forcibly remount, call drive.mount(\"/content/drive\", force_remount=True).\n",
            "Requirement already satisfied: kaggle in /usr/local/lib/python3.10/dist-packages (1.5.16)\n",
            "Requirement already satisfied: six>=1.10 in /usr/local/lib/python3.10/dist-packages (from kaggle) (1.16.0)\n",
            "Requirement already satisfied: certifi in /usr/local/lib/python3.10/dist-packages (from kaggle) (2023.7.22)\n",
            "Requirement already satisfied: python-dateutil in /usr/local/lib/python3.10/dist-packages (from kaggle) (2.8.2)\n",
            "Requirement already satisfied: requests in /usr/local/lib/python3.10/dist-packages (from kaggle) (2.31.0)\n",
            "Requirement already satisfied: tqdm in /usr/local/lib/python3.10/dist-packages (from kaggle) (4.66.1)\n",
            "Requirement already satisfied: python-slugify in /usr/local/lib/python3.10/dist-packages (from kaggle) (8.0.1)\n",
            "Requirement already satisfied: urllib3 in /usr/local/lib/python3.10/dist-packages (from kaggle) (2.0.4)\n",
            "Requirement already satisfied: bleach in /usr/local/lib/python3.10/dist-packages (from kaggle) (6.0.0)\n",
            "Requirement already satisfied: webencodings in /usr/local/lib/python3.10/dist-packages (from bleach->kaggle) (0.5.1)\n",
            "Requirement already satisfied: text-unidecode>=1.3 in /usr/local/lib/python3.10/dist-packages (from python-slugify->kaggle) (1.3)\n",
            "Requirement already satisfied: charset-normalizer<4,>=2 in /usr/local/lib/python3.10/dist-packages (from requests->kaggle) (3.2.0)\n",
            "Requirement already satisfied: idna<4,>=2.5 in /usr/local/lib/python3.10/dist-packages (from requests->kaggle) (3.4)\n",
            "videos-160.zip: Skipping, found more recently modified local copy (use --force to force download)\n"
          ]
        }
      ]
    },
    {
      "cell_type": "code",
      "source": [
        "!ls\n",
        "!mkdir input\n",
        "!unzip -q videos-160.zip -d input"
      ],
      "metadata": {
        "colab": {
          "base_uri": "https://localhost:8080/"
        },
        "id": "VgdTcuglXpTM",
        "outputId": "3fd706f7-eee2-4ce8-cd74-8a3ba63b248c"
      },
      "execution_count": 73,
      "outputs": [
        {
          "output_type": "stream",
          "name": "stdout",
          "text": [
            "descr.npy     GolfDB.csv  input\t\ttarget_names.npy\n",
            "drive\t      golfDB.mat  kaggle.json\ttarget.npy\n",
            "flat_dat.npy  GolfDB.pkl  sample_data\tvideos_160\n",
            "golfDB.csv    images.npy  Swing_events\tvideos-160.zip\n",
            "mkdir: cannot create directory ‘input’: File exists\n",
            "replace input/GolfDB.csv? [y]es, [n]o, [A]ll, [N]one, [r]ename: "
          ]
        }
      ]
    },
    {
      "cell_type": "code",
      "source": [
        "!ls input"
      ],
      "metadata": {
        "colab": {
          "base_uri": "https://localhost:8080/"
        },
        "id": "Rn1zLNSDX0Jg",
        "outputId": "b6bfcce9-781b-4ada-ca86-fcf1c6699b1a"
      },
      "execution_count": 74,
      "outputs": [
        {
          "output_type": "stream",
          "name": "stdout",
          "text": [
            "GolfDB.csv  golfDB.mat\tGolfDB.pkl  videos_160\n"
          ]
        }
      ]
    },
    {
      "cell_type": "markdown",
      "source": [
        "## Create folders for each golf sequence\n",
        "Each folder contains images"
      ],
      "metadata": {
        "id": "y2_ahwF8hgjh"
      }
    },
    {
      "cell_type": "code",
      "source": [
        "import numpy as np # linear algebra\n",
        "import pandas as pd # data processing, CSV file I/O (e.g. pd.read_csv)\n",
        "pd.options.display.width = None\n",
        "pd.set_option(\"max_colwidth\", None)\n",
        "pd.options.display.max_rows = 999\n",
        "import cv2\n",
        "import pickle\n",
        "import gzip\n",
        "from pathlib import Path\n",
        "import matplotlib.pyplot as plt\n",
        "from sklearn import svm, metrics, datasets\n",
        "from sklearn.utils import Bunch\n",
        "from sklearn.model_selection import GridSearchCV, train_test_split\n",
        "from sklearn.preprocessing import StandardScaler, MinMaxScaler\n",
        "from sklearn.svm import SVC\n",
        "from skimage.io import imread\n",
        "from skimage.transform import resize\n",
        "import warnings\n",
        "warnings.filterwarnings(\"ignore\")\n",
        "import skimage\n",
        "import os\n",
        "from skimage.feature import hog\n",
        "from skimage import exposure\n",
        "rseed = 42"
      ],
      "metadata": {
        "execution": {
          "iopub.status.busy": "2021-10-28T20:55:55.390533Z",
          "iopub.execute_input": "2021-10-28T20:55:55.391061Z",
          "iopub.status.idle": "2021-10-28T20:55:57.713791Z",
          "shell.execute_reply.started": "2021-10-28T20:55:55.39098Z",
          "shell.execute_reply": "2021-10-28T20:55:57.712784Z"
        },
        "trusted": true,
        "id": "yWRGnvYdUXi8"
      },
      "execution_count": 75,
      "outputs": []
    },
    {
      "cell_type": "code",
      "source": [
        "!pip install imutils"
      ],
      "metadata": {
        "execution": {
          "iopub.status.busy": "2021-10-28T20:55:57.715263Z",
          "iopub.execute_input": "2021-10-28T20:55:57.715585Z",
          "iopub.status.idle": "2021-10-28T20:56:08.049309Z",
          "shell.execute_reply.started": "2021-10-28T20:55:57.715554Z",
          "shell.execute_reply": "2021-10-28T20:56:08.048512Z"
        },
        "trusted": true,
        "colab": {
          "base_uri": "https://localhost:8080/"
        },
        "id": "C3tzrjFXUXi9",
        "outputId": "4658a8cf-084c-4fc8-9bf8-26fef13a6de0"
      },
      "execution_count": 76,
      "outputs": [
        {
          "output_type": "stream",
          "name": "stdout",
          "text": [
            "Requirement already satisfied: imutils in /usr/local/lib/python3.10/dist-packages (0.5.4)\n"
          ]
        }
      ]
    },
    {
      "cell_type": "code",
      "source": [
        "import imutils"
      ],
      "metadata": {
        "execution": {
          "iopub.status.busy": "2021-10-28T20:56:08.051441Z",
          "iopub.execute_input": "2021-10-28T20:56:08.05191Z",
          "iopub.status.idle": "2021-10-28T20:56:08.060964Z",
          "shell.execute_reply.started": "2021-10-28T20:56:08.051868Z",
          "shell.execute_reply": "2021-10-28T20:56:08.060008Z"
        },
        "trusted": true,
        "id": "a0kgCGLWUXi9"
      },
      "execution_count": 77,
      "outputs": []
    },
    {
      "cell_type": "code",
      "source": [
        "def load_df(file_name):\n",
        "    from scipy.io import loadmat\n",
        "    import pandas as pd\n",
        "    pd.options.display.width = None\n",
        "    pd.set_option(\"max_colwidth\", None)\n",
        "    pd.options.display.max_rows = 999\n",
        "\n",
        "    x = loadmat(file_name)\n",
        "    l = list(x['golfDB'][0])\n",
        "    d = dict()\n",
        "    for idx, k in enumerate(l):\n",
        "        d[\"{:3d}\".format(idx)] = list(l[idx])\n",
        "    df = pd.DataFrame(d).T\n",
        "    df.columns = [\"id\", \"youtube_id\", \"player\", \"sex\", \"club\", \"view\", \"slow\", \"events\", \"bbox\", \"split\"]\n",
        "    # 10 events = start_frame(SF), address(A), Toe-up(TU), Mid-backswing(MB), Top(T), Mid-downswing(MD), Impact(I),\n",
        "    # Mid-follow-through(MFT), Finsh(F), end_frame(EF)\n",
        "    # data format cleansing\n",
        "    df['id'] = df['id'].apply(lambda x: x[0][0])\n",
        "    df['youtube_id'] = df['youtube_id'].apply(lambda x: x[0])\n",
        "    df['player'] = df['player'].apply(lambda x: x[0])\n",
        "    df['sex'] = df['sex'].apply(lambda x: x[0])\n",
        "    df['club'] = df['club'].apply(lambda x: x[0])\n",
        "    df['view'] = df['view'].apply(lambda x: x[0])\n",
        "    df['slow'] = df['slow'].apply(lambda x: x[0][0])\n",
        "    df['events'] = df['events'].apply(lambda x: x[0])\n",
        "    df['bbox'] = df['bbox'].apply(lambda x: x[0])\n",
        "    df['split'] = df['split'].apply(lambda x: x[0][0])\n",
        "    df = df.drop(columns=['split', 'youtube_id'])\n",
        "\n",
        "    df.index = df.index.astype(int)\n",
        "    # df.to_pickle('golfDB.pkl')\n",
        "    df.to_csv('golfDB.csv')\n",
        "\n",
        "    print(\"Number of annotations: {:3d}\".format(len(df.id)))\n",
        "    return df"
      ],
      "metadata": {
        "_uuid": "6b2f20e6-4668-478a-86c2-2ae4946bdf38",
        "_cell_guid": "52130953-df09-4f19-ad7b-3a2c8eb036a5",
        "jupyter": {
          "outputs_hidden": false
        },
        "execution": {
          "iopub.status.busy": "2021-10-28T20:56:08.063839Z",
          "iopub.execute_input": "2021-10-28T20:56:08.064233Z",
          "iopub.status.idle": "2021-10-28T20:56:08.213319Z",
          "shell.execute_reply.started": "2021-10-28T20:56:08.064196Z",
          "shell.execute_reply": "2021-10-28T20:56:08.21234Z"
        },
        "trusted": true,
        "id": "IsmUoewJUXi9"
      },
      "execution_count": 78,
      "outputs": []
    },
    {
      "cell_type": "markdown",
      "source": [
        "### Loop through each video frame-by-frame"
      ],
      "metadata": {
        "id": "ezbiMwd8UXi9"
      }
    },
    {
      "cell_type": "code",
      "source": [
        "def draw_bbox(id, df):\n",
        "    video = cv2.VideoCapture(\"./input/videos_160/videos_160/\" + str(id) + \".mp4\")\n",
        "\n",
        "    iterations = 0\n",
        "    event_num = 1\n",
        "    events = df.events[id]\n",
        "#     print(type(df.bbox[id]))\n",
        "    x, y, w, h = df.bbox[id]\n",
        "    x, y, w, h = int(x*160), int(y*160), int(w*160), int(h*160) #make proportional to image 160 by 160\n",
        "    label = ['Address', 'Toe-up', 'Mid-Backswing', 'Top', 'Mid-Downswing', 'Impact', 'Mid-Follow-Through', 'Finish']\n",
        "\n",
        "    while True:\n",
        "        ret, frame = video.read()\n",
        "\n",
        "        if not ret:\n",
        "            break\n",
        "        if iterations == events[event_num] and event_num < 9:\n",
        "            cv2.imwrite(\"Swing_events/\" + label[event_num - 1] + \"/\" + str(id) + \".jpg\", frame)\n",
        "            event_num += 1\n",
        "        iterations += 1\n",
        "    video.release()"
      ],
      "metadata": {
        "_uuid": "e48bc273-fa93-4186-bdc0-21c75339a31b",
        "_cell_guid": "42c676a4-50fe-4835-a278-a681a95a2974",
        "jupyter": {
          "outputs_hidden": false
        },
        "execution": {
          "iopub.status.busy": "2021-10-28T20:56:53.429316Z",
          "iopub.execute_input": "2021-10-28T20:56:53.429703Z",
          "iopub.status.idle": "2021-10-28T20:56:53.438011Z",
          "shell.execute_reply.started": "2021-10-28T20:56:53.42967Z",
          "shell.execute_reply": "2021-10-28T20:56:53.437032Z"
        },
        "trusted": true,
        "id": "QNNhy-RlUXi9"
      },
      "execution_count": 79,
      "outputs": []
    },
    {
      "cell_type": "code",
      "source": [
        "df = load_df('./input/golfDB.mat')\n",
        "print(df.head(16))"
      ],
      "metadata": {
        "_uuid": "ac085e2d-de37-4c79-ab84-5596ac495b78",
        "_cell_guid": "6a788139-cac8-41a2-8e8e-0a80645c8264",
        "jupyter": {
          "outputs_hidden": false
        },
        "execution": {
          "iopub.status.busy": "2021-10-28T20:56:08.236006Z",
          "iopub.execute_input": "2021-10-28T20:56:08.236313Z",
          "iopub.status.idle": "2021-10-28T20:56:08.840516Z",
          "shell.execute_reply.started": "2021-10-28T20:56:08.236279Z",
          "shell.execute_reply": "2021-10-28T20:56:08.839524Z"
        },
        "trusted": true,
        "colab": {
          "base_uri": "https://localhost:8080/"
        },
        "id": "gQytWUpeUXi-",
        "outputId": "0bec3e1f-a075-4e62-db08-b70b2d51b862"
      },
      "execution_count": 80,
      "outputs": [
        {
          "output_type": "stream",
          "name": "stdout",
          "text": [
            "Number of annotations: 1400\n",
            "    id            player sex    club           view  slow  \\\n",
            "0    0        SANDRA GAL   f  driver  down-the-line     0   \n",
            "1    1        SANDRA GAL   f  driver  down-the-line     1   \n",
            "2    2     CHRIS DIMARCO   m  driver  down-the-line     0   \n",
            "3    3     CHRIS DIMARCO   m  driver  down-the-line     1   \n",
            "4    4  BROOKE HENDERSON   f  driver  down-the-line     0   \n",
            "5    5  BROOKE HENDERSON   f  driver  down-the-line     1   \n",
            "6    6       NICK WATNEY   m  driver  down-the-line     0   \n",
            "7    7       NICK WATNEY   m  driver  down-the-line     1   \n",
            "8    8      CRISTIE KERR   f  driver        face-on     0   \n",
            "9    9      CRISTIE KERR   f  driver        face-on     1   \n",
            "10  10    STEVE STRICKER   m  driver        face-on     0   \n",
            "11  11    STEVE STRICKER   m  driver        face-on     1   \n",
            "12  12      KYLE STANLEY   m  driver  down-the-line     0   \n",
            "13  13      KYLE STANLEY   m  driver          other     1   \n",
            "14  14       GREG NORMAN   m  driver        face-on     0   \n",
            "15  15       GREG NORMAN   m  driver        face-on     1   \n",
            "\n",
            "                                                          events  \\\n",
            "0             [408, 455, 473, 476, 490, 495, 498, 501, 514, 545]   \n",
            "1        [814, 854, 917, 931, 988, 1006, 1019, 1030, 1083, 1137]   \n",
            "2             [521, 659, 678, 683, 692, 696, 698, 701, 715, 745]   \n",
            "3   [1106, 1190, 1244, 1264, 1300, 1313, 1324, 1335, 1389, 1449]   \n",
            "4             [157, 170, 183, 188, 197, 201, 205, 207, 220, 250]   \n",
            "5             [510, 528, 579, 598, 634, 650, 665, 674, 723, 763]   \n",
            "6             [246, 298, 310, 314, 324, 329, 332, 334, 351, 381]   \n",
            "7            [751, 794, 843, 859, 896, 918, 929, 938, 996, 1029]   \n",
            "8             [288, 317, 333, 335, 347, 352, 355, 357, 371, 401]   \n",
            "9             [601, 631, 690, 699, 749, 765, 779, 788, 847, 878]   \n",
            "10            [395, 475, 488, 492, 499, 504, 507, 509, 524, 563]   \n",
            "11           [744, 803, 854, 867, 899, 914, 927, 936, 999, 1050]   \n",
            "12              [61, 96, 109, 113, 121, 126, 129, 131, 146, 180]   \n",
            "13            [424, 501, 555, 570, 609, 624, 636, 645, 702, 743]   \n",
            "14            [457, 497, 513, 515, 523, 527, 531, 533, 546, 569]   \n",
            "15          [809, 833, 891, 899, 932, 948, 963, 971, 1020, 1080]   \n",
            "\n",
            "                                                                           bbox  \n",
            "0   [0.09765625000000001, 0.006944444444444444, 0.50234375, 0.9805555555555555]  \n",
            "1     [0.039062500000000014, 0.0006944444444444445, 0.6125, 0.9784722222222222]  \n",
            "2             [0.165625, 0.0006944444444444445, 0.48359375, 0.9868055555555556]  \n",
            "3             [0.18515625, 0.0006944444444444445, 0.465625, 0.9715277777777778]  \n",
            "4            [0.11015625, 0.0006944444444444445, 0.4984375, 0.9868055555555556]  \n",
            "5            [0.1109375, 0.0006944444444444445, 0.50703125, 0.9715277777777778]  \n",
            "6             [0.1453125, 0.001388888888888889, 0.46796875, 0.9993055555555556]  \n",
            "7                              [0.16953125, 0.0006944444444444445, 0.4125, 1.0]  \n",
            "8                  [0.0007812500000000111, 0.0006944444444444445, 0.91875, 1.0]  \n",
            "9                        [0.000390625, 0.0006944444444444445, 0.902734375, 1.0]  \n",
            "10                            [0.10625, 0.0006944444444444445, 0.80078125, 1.0]  \n",
            "11                            [0.10625, 0.0006944444444444445, 0.77109375, 1.0]  \n",
            "12  [0.05390625000000001, 0.002777777777777778, 0.58671875, 0.9979166666666667]  \n",
            "13                  [0.03828125000000001, 0.0006944444444444445, 0.615625, 1.0]  \n",
            "14                [0.05234375000000001, 0.0006944444444444445, 0.85078125, 1.0]  \n",
            "15                [0.06015625000000001, 0.0006944444444444445, 0.80078125, 1.0]  \n"
          ]
        }
      ]
    },
    {
      "cell_type": "markdown",
      "source": [
        "#### Rearrange video swing event frames"
      ],
      "metadata": {
        "id": "tLpV47wXUXi-"
      }
    },
    {
      "cell_type": "code",
      "source": [
        "for index in df.index:\n",
        "    i = 0\n",
        "    events = df.events[index]\n",
        "    scaled_events = []\n",
        "    for event in events:\n",
        "        if i == 0:\n",
        "            scaled_events.append(0)\n",
        "        else:\n",
        "            scaled_events.append(event - events[0])\n",
        "        i += 1\n",
        "    df.events[index] = scaled_events\n",
        "\n",
        "print(df.head(15))"
      ],
      "metadata": {
        "_uuid": "b7b11478-5300-4202-9d7e-3bb0b9b67505",
        "_cell_guid": "528f9535-2a71-4c00-a41d-324f1b650e1b",
        "jupyter": {
          "outputs_hidden": false
        },
        "execution": {
          "iopub.status.busy": "2021-10-28T20:56:08.841577Z",
          "iopub.execute_input": "2021-10-28T20:56:08.841847Z",
          "iopub.status.idle": "2021-10-28T20:56:09.576933Z",
          "shell.execute_reply.started": "2021-10-28T20:56:08.841821Z",
          "shell.execute_reply": "2021-10-28T20:56:09.575898Z"
        },
        "trusted": true,
        "id": "6NIRIR19UXi-",
        "colab": {
          "base_uri": "https://localhost:8080/"
        },
        "outputId": "d4d3b145-58f5-4003-9f2f-c92e71cd088f"
      },
      "execution_count": 81,
      "outputs": [
        {
          "output_type": "stream",
          "name": "stdout",
          "text": [
            "    id            player sex    club           view  slow  \\\n",
            "0    0        SANDRA GAL   f  driver  down-the-line     0   \n",
            "1    1        SANDRA GAL   f  driver  down-the-line     1   \n",
            "2    2     CHRIS DIMARCO   m  driver  down-the-line     0   \n",
            "3    3     CHRIS DIMARCO   m  driver  down-the-line     1   \n",
            "4    4  BROOKE HENDERSON   f  driver  down-the-line     0   \n",
            "5    5  BROOKE HENDERSON   f  driver  down-the-line     1   \n",
            "6    6       NICK WATNEY   m  driver  down-the-line     0   \n",
            "7    7       NICK WATNEY   m  driver  down-the-line     1   \n",
            "8    8      CRISTIE KERR   f  driver        face-on     0   \n",
            "9    9      CRISTIE KERR   f  driver        face-on     1   \n",
            "10  10    STEVE STRICKER   m  driver        face-on     0   \n",
            "11  11    STEVE STRICKER   m  driver        face-on     1   \n",
            "12  12      KYLE STANLEY   m  driver  down-the-line     0   \n",
            "13  13      KYLE STANLEY   m  driver          other     1   \n",
            "14  14       GREG NORMAN   m  driver        face-on     0   \n",
            "\n",
            "                                              events  \\\n",
            "0          [0, 47, 65, 68, 82, 87, 90, 93, 106, 137]   \n",
            "1    [0, 40, 103, 117, 174, 192, 205, 216, 269, 323]   \n",
            "2   [0, 138, 157, 162, 171, 175, 177, 180, 194, 224]   \n",
            "3    [0, 84, 138, 158, 194, 207, 218, 229, 283, 343]   \n",
            "4            [0, 13, 26, 31, 40, 44, 48, 50, 63, 93]   \n",
            "5      [0, 18, 69, 88, 124, 140, 155, 164, 213, 253]   \n",
            "6          [0, 52, 64, 68, 78, 83, 86, 88, 105, 135]   \n",
            "7     [0, 43, 92, 108, 145, 167, 178, 187, 245, 278]   \n",
            "8           [0, 29, 45, 47, 59, 64, 67, 69, 83, 113]   \n",
            "9      [0, 30, 89, 98, 148, 164, 178, 187, 246, 277]   \n",
            "10     [0, 80, 93, 97, 104, 109, 112, 114, 129, 168]   \n",
            "11   [0, 59, 110, 123, 155, 170, 183, 192, 255, 306]   \n",
            "12          [0, 35, 48, 52, 60, 65, 68, 70, 85, 119]   \n",
            "13   [0, 77, 131, 146, 185, 200, 212, 221, 278, 319]   \n",
            "14          [0, 40, 56, 58, 66, 70, 74, 76, 89, 112]   \n",
            "\n",
            "                                                                           bbox  \n",
            "0   [0.09765625000000001, 0.006944444444444444, 0.50234375, 0.9805555555555555]  \n",
            "1     [0.039062500000000014, 0.0006944444444444445, 0.6125, 0.9784722222222222]  \n",
            "2             [0.165625, 0.0006944444444444445, 0.48359375, 0.9868055555555556]  \n",
            "3             [0.18515625, 0.0006944444444444445, 0.465625, 0.9715277777777778]  \n",
            "4            [0.11015625, 0.0006944444444444445, 0.4984375, 0.9868055555555556]  \n",
            "5            [0.1109375, 0.0006944444444444445, 0.50703125, 0.9715277777777778]  \n",
            "6             [0.1453125, 0.001388888888888889, 0.46796875, 0.9993055555555556]  \n",
            "7                              [0.16953125, 0.0006944444444444445, 0.4125, 1.0]  \n",
            "8                  [0.0007812500000000111, 0.0006944444444444445, 0.91875, 1.0]  \n",
            "9                        [0.000390625, 0.0006944444444444445, 0.902734375, 1.0]  \n",
            "10                            [0.10625, 0.0006944444444444445, 0.80078125, 1.0]  \n",
            "11                            [0.10625, 0.0006944444444444445, 0.77109375, 1.0]  \n",
            "12  [0.05390625000000001, 0.002777777777777778, 0.58671875, 0.9979166666666667]  \n",
            "13                  [0.03828125000000001, 0.0006944444444444445, 0.615625, 1.0]  \n",
            "14                [0.05234375000000001, 0.0006944444444444445, 0.85078125, 1.0]  \n"
          ]
        }
      ]
    },
    {
      "cell_type": "code",
      "source": [
        " df.to_pickle(\"GolfDB.pkl\")"
      ],
      "metadata": {
        "_uuid": "17620b62-3524-46a1-a21d-cd0c9f478344",
        "_cell_guid": "7545dcae-d978-4e7f-86ec-ebc1eb0f2599",
        "jupyter": {
          "outputs_hidden": false
        },
        "execution": {
          "iopub.status.busy": "2021-10-28T20:56:09.578395Z",
          "iopub.execute_input": "2021-10-28T20:56:09.578975Z",
          "iopub.status.idle": "2021-10-28T20:56:09.703802Z",
          "shell.execute_reply.started": "2021-10-28T20:56:09.57893Z",
          "shell.execute_reply": "2021-10-28T20:56:09.703011Z"
        },
        "trusted": true,
        "id": "xjPBKEXYUXi-"
      },
      "execution_count": 82,
      "outputs": []
    },
    {
      "cell_type": "code",
      "source": [
        "df.shape"
      ],
      "metadata": {
        "colab": {
          "base_uri": "https://localhost:8080/"
        },
        "id": "4iGU29_sbi02",
        "outputId": "b73616de-43ec-4e0f-8d87-b8214b84df8f"
      },
      "execution_count": 83,
      "outputs": [
        {
          "output_type": "execute_result",
          "data": {
            "text/plain": [
              "(1400, 8)"
            ]
          },
          "metadata": {},
          "execution_count": 83
        }
      ]
    },
    {
      "cell_type": "code",
      "source": [
        "import shutil\n",
        "if os.path.exists(\"./Swing_events\"):\n",
        "    shutil.rmtree(\"./Swing_events\")"
      ],
      "metadata": {
        "_uuid": "41c0543a-33fd-479b-b3ee-d4a30856eba6",
        "_cell_guid": "6a9ef432-730f-43e1-affa-0df0ed0491ff",
        "jupyter": {
          "outputs_hidden": false
        },
        "execution": {
          "iopub.status.busy": "2021-10-28T20:56:09.706262Z",
          "iopub.execute_input": "2021-10-28T20:56:09.706941Z",
          "iopub.status.idle": "2021-10-28T20:56:09.71146Z",
          "shell.execute_reply.started": "2021-10-28T20:56:09.706894Z",
          "shell.execute_reply": "2021-10-28T20:56:09.710739Z"
        },
        "trusted": true,
        "id": "S87bo_L9UXi-"
      },
      "execution_count": 84,
      "outputs": []
    },
    {
      "cell_type": "code",
      "source": [
        "# create class folders\n",
        "os.makedirs('./Swing_events/Address')\n",
        "os.makedirs('./Swing_events/Toe-up')\n",
        "os.makedirs('./Swing_events/Mid-Backswing')\n",
        "os.makedirs('./Swing_events/Top')\n",
        "os.makedirs('./Swing_events/Mid-Downswing')\n",
        "os.makedirs('./Swing_events/Impact')\n",
        "os.makedirs('./Swing_events/Mid-Follow-Through')\n",
        "os.makedirs('./Swing_events/Finish')"
      ],
      "metadata": {
        "_uuid": "0d868587-0f5d-4aa2-9f54-1d80a0390ae4",
        "_cell_guid": "465b7c02-2e30-4e48-8f90-c5ffcde318c8",
        "jupyter": {
          "outputs_hidden": false
        },
        "execution": {
          "iopub.status.busy": "2021-10-28T20:56:09.712924Z",
          "iopub.execute_input": "2021-10-28T20:56:09.713247Z",
          "iopub.status.idle": "2021-10-28T20:56:09.725379Z",
          "shell.execute_reply.started": "2021-10-28T20:56:09.713217Z",
          "shell.execute_reply": "2021-10-28T20:56:09.724395Z"
        },
        "trusted": true,
        "id": "xDIm_UAEUXi-"
      },
      "execution_count": 85,
      "outputs": []
    },
    {
      "cell_type": "markdown",
      "source": [
        "#### Loop through all videos"
      ],
      "metadata": {
        "id": "IoUKsD_qUXi-"
      }
    },
    {
      "cell_type": "code",
      "source": [
        "df = pd.read_pickle(\"./GolfDB.pkl\")\n",
        "print(df.head(16))\n",
        "i = 0\n",
        "rows = []\n",
        "while i < 1400:\n",
        "    draw_bbox(df.id[i], df)\n",
        "    if (i % 100 == 0):\n",
        "        print(i)\n",
        "    i += 1\n"
      ],
      "metadata": {
        "_uuid": "6a5e4ac7-93ea-46c0-82e8-8bc077fddc1c",
        "_cell_guid": "0f702b3d-efdb-4f38-8a53-738707b5d877",
        "jupyter": {
          "outputs_hidden": false
        },
        "execution": {
          "iopub.status.busy": "2021-10-28T20:57:01.332902Z",
          "iopub.execute_input": "2021-10-28T20:57:01.33351Z",
          "iopub.status.idle": "2021-10-28T20:58:12.258126Z",
          "shell.execute_reply.started": "2021-10-28T20:57:01.333457Z",
          "shell.execute_reply": "2021-10-28T20:58:12.257221Z"
        },
        "trusted": true,
        "id": "Y9F-oAXHUXi-",
        "colab": {
          "base_uri": "https://localhost:8080/"
        },
        "outputId": "49d42759-d83e-4353-9cf4-484cf12a3c4b"
      },
      "execution_count": 86,
      "outputs": [
        {
          "output_type": "stream",
          "name": "stdout",
          "text": [
            "    id            player sex    club           view  slow  \\\n",
            "0    0        SANDRA GAL   f  driver  down-the-line     0   \n",
            "1    1        SANDRA GAL   f  driver  down-the-line     1   \n",
            "2    2     CHRIS DIMARCO   m  driver  down-the-line     0   \n",
            "3    3     CHRIS DIMARCO   m  driver  down-the-line     1   \n",
            "4    4  BROOKE HENDERSON   f  driver  down-the-line     0   \n",
            "5    5  BROOKE HENDERSON   f  driver  down-the-line     1   \n",
            "6    6       NICK WATNEY   m  driver  down-the-line     0   \n",
            "7    7       NICK WATNEY   m  driver  down-the-line     1   \n",
            "8    8      CRISTIE KERR   f  driver        face-on     0   \n",
            "9    9      CRISTIE KERR   f  driver        face-on     1   \n",
            "10  10    STEVE STRICKER   m  driver        face-on     0   \n",
            "11  11    STEVE STRICKER   m  driver        face-on     1   \n",
            "12  12      KYLE STANLEY   m  driver  down-the-line     0   \n",
            "13  13      KYLE STANLEY   m  driver          other     1   \n",
            "14  14       GREG NORMAN   m  driver        face-on     0   \n",
            "15  15       GREG NORMAN   m  driver        face-on     1   \n",
            "\n",
            "                                              events  \\\n",
            "0          [0, 47, 65, 68, 82, 87, 90, 93, 106, 137]   \n",
            "1    [0, 40, 103, 117, 174, 192, 205, 216, 269, 323]   \n",
            "2   [0, 138, 157, 162, 171, 175, 177, 180, 194, 224]   \n",
            "3    [0, 84, 138, 158, 194, 207, 218, 229, 283, 343]   \n",
            "4            [0, 13, 26, 31, 40, 44, 48, 50, 63, 93]   \n",
            "5      [0, 18, 69, 88, 124, 140, 155, 164, 213, 253]   \n",
            "6          [0, 52, 64, 68, 78, 83, 86, 88, 105, 135]   \n",
            "7     [0, 43, 92, 108, 145, 167, 178, 187, 245, 278]   \n",
            "8           [0, 29, 45, 47, 59, 64, 67, 69, 83, 113]   \n",
            "9      [0, 30, 89, 98, 148, 164, 178, 187, 246, 277]   \n",
            "10     [0, 80, 93, 97, 104, 109, 112, 114, 129, 168]   \n",
            "11   [0, 59, 110, 123, 155, 170, 183, 192, 255, 306]   \n",
            "12          [0, 35, 48, 52, 60, 65, 68, 70, 85, 119]   \n",
            "13   [0, 77, 131, 146, 185, 200, 212, 221, 278, 319]   \n",
            "14          [0, 40, 56, 58, 66, 70, 74, 76, 89, 112]   \n",
            "15     [0, 24, 82, 90, 123, 139, 154, 162, 211, 271]   \n",
            "\n",
            "                                                                           bbox  \n",
            "0   [0.09765625000000001, 0.006944444444444444, 0.50234375, 0.9805555555555555]  \n",
            "1     [0.039062500000000014, 0.0006944444444444445, 0.6125, 0.9784722222222222]  \n",
            "2             [0.165625, 0.0006944444444444445, 0.48359375, 0.9868055555555556]  \n",
            "3             [0.18515625, 0.0006944444444444445, 0.465625, 0.9715277777777778]  \n",
            "4            [0.11015625, 0.0006944444444444445, 0.4984375, 0.9868055555555556]  \n",
            "5            [0.1109375, 0.0006944444444444445, 0.50703125, 0.9715277777777778]  \n",
            "6             [0.1453125, 0.001388888888888889, 0.46796875, 0.9993055555555556]  \n",
            "7                              [0.16953125, 0.0006944444444444445, 0.4125, 1.0]  \n",
            "8                  [0.0007812500000000111, 0.0006944444444444445, 0.91875, 1.0]  \n",
            "9                        [0.000390625, 0.0006944444444444445, 0.902734375, 1.0]  \n",
            "10                            [0.10625, 0.0006944444444444445, 0.80078125, 1.0]  \n",
            "11                            [0.10625, 0.0006944444444444445, 0.77109375, 1.0]  \n",
            "12  [0.05390625000000001, 0.002777777777777778, 0.58671875, 0.9979166666666667]  \n",
            "13                  [0.03828125000000001, 0.0006944444444444445, 0.615625, 1.0]  \n",
            "14                [0.05234375000000001, 0.0006944444444444445, 0.85078125, 1.0]  \n",
            "15                [0.06015625000000001, 0.0006944444444444445, 0.80078125, 1.0]  \n",
            "0\n",
            "100\n",
            "200\n",
            "300\n",
            "400\n",
            "500\n",
            "600\n",
            "700\n",
            "800\n",
            "900\n",
            "1000\n",
            "1100\n",
            "1200\n",
            "1300\n"
          ]
        }
      ]
    },
    {
      "cell_type": "markdown",
      "source": [
        "## Sample dataset(sci-kit)"
      ],
      "metadata": {
        "id": "PskAi8ddhIg0"
      }
    },
    {
      "cell_type": "markdown",
      "source": [
        "#### Read through class folder images and create sci-kit learn dataset"
      ],
      "metadata": {
        "_uuid": "20c0f458-ac4b-4745-9b78-acf41653b8ff",
        "_cell_guid": "bcc2ee2e-4a1d-4af5-9b97-bbef123b174c",
        "trusted": true,
        "id": "83DU_labUXi-"
      }
    },
    {
      "cell_type": "code",
      "source": [
        "def load_image_files(container_path, dimension=(30, 30)):\n",
        "    image_dir = Path(container_path)\n",
        "    folders = [directory for directory in image_dir.iterdir() if directory.is_dir()]\n",
        "    categories = [fo.name for fo in folders]\n",
        "\n",
        "    descr = \"Your own dataset\"\n",
        "    images = []\n",
        "    flat_data = []\n",
        "    target = []\n",
        "    for i, direc in enumerate(folders):\n",
        "        for file in direc.iterdir():\n",
        "            img = skimage.io.imread(file)\n",
        "            img_resized = resize(img, dimension, anti_aliasing=True, mode='reflect')\n",
        "            flat_data.append(img_resized.flatten())\n",
        "            images.append(img_resized)\n",
        "            target.append(i)\n",
        "    flat_data = np.array(flat_data)\n",
        "    target = np.array(target)\n",
        "    images = np.array(images)\n",
        "\n",
        "    np.save('flat_dat.npy', flat_data)\n",
        "    np.save('target.npy', target)\n",
        "    np.save('target_names', categories)\n",
        "    np.save('images.npy', images)\n",
        "    np.save('descr.npy', descr)\n",
        "\n",
        "    # return in the exact same format as the built-in datasets\n",
        "    return Bunch(data=flat_data,\n",
        "                 target=target,\n",
        "                 target_names=categories,\n",
        "                 images=images,\n",
        "                 DESCR=descr)"
      ],
      "metadata": {
        "_uuid": "4d5462e4-8a94-48fe-b7cb-3aea446b6e27",
        "_cell_guid": "e8d35d05-c92d-415b-b9af-a0a149b36344",
        "jupyter": {
          "outputs_hidden": false
        },
        "execution": {
          "iopub.status.busy": "2021-10-28T20:58:12.261584Z",
          "iopub.execute_input": "2021-10-28T20:58:12.26191Z",
          "iopub.status.idle": "2021-10-28T20:58:12.272457Z",
          "shell.execute_reply.started": "2021-10-28T20:58:12.261879Z",
          "shell.execute_reply": "2021-10-28T20:58:12.271095Z"
        },
        "trusted": true,
        "id": "ZSpotQYbUXi-"
      },
      "execution_count": 87,
      "outputs": []
    },
    {
      "cell_type": "code",
      "source": [
        "swing_image_dataset = load_image_files(\"./Swing_events/\")"
      ],
      "metadata": {
        "_uuid": "d616cc76-5d3b-47ee-a356-e8322b56c9eb",
        "_cell_guid": "6f6a44d9-8468-4a2b-a2ac-3deaabd72551",
        "jupyter": {
          "outputs_hidden": false
        },
        "execution": {
          "iopub.status.busy": "2021-10-28T20:58:12.273867Z",
          "iopub.execute_input": "2021-10-28T20:58:12.274143Z"
        },
        "trusted": true,
        "id": "23X43znOUXi-"
      },
      "execution_count": 88,
      "outputs": []
    }
  ]
}